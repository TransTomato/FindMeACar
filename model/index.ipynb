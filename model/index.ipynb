{
 "cells": [
  {
   "cell_type": "code",
   "execution_count": 6,
   "metadata": {
    "scrolled": true
   },
   "outputs": [],
   "source": [
    "#authors Michelle Quintero Hernandez\n",
    "# import webdriver\n",
    "from selenium import webdriver\n",
    "#from selenium.webdriver.firefox.firefox_binary import FirefoxBinary\n",
    "\n",
    "# create webdriver object\n",
    "#binary = FirefoxBinary('/home/michelle/Documentos/Projects/Python/silinium/geckodriver-firefox/geckodriver')\n",
    "#driver = webdriver.Firefox(firefox_binary=binary)\n",
    "driver = webdriver.Firefox()\n",
    "\n",
    "\n",
    "# get geeksforgeeks.org\n",
    "driver.get(\"https://www.mercadolibre.com.co\")\n",
    "\n",
    "# get element\n",
    "element = driver.find_element_by_class_name(\"nav-search-input\")\n",
    "\n",
    "# send keys\n",
    "element.send_keys(\"Arrays\")\n"
   ]
  },
  {
   "cell_type": "code",
   "execution_count": null,
   "metadata": {},
   "outputs": [],
   "source": []
  },
  {
   "cell_type": "code",
   "execution_count": null,
   "metadata": {},
   "outputs": [],
   "source": []
  }
 ],
 "metadata": {
  "kernelspec": {
   "display_name": "Python 3",
   "language": "python",
   "name": "python3"
  },
  "language_info": {
   "codemirror_mode": {
    "name": "ipython",
    "version": 3
   },
   "file_extension": ".py",
   "mimetype": "text/x-python",
   "name": "python",
   "nbconvert_exporter": "python",
   "pygments_lexer": "ipython3",
   "version": "3.8.3"
  }
 },
 "nbformat": 4,
 "nbformat_minor": 4
}
