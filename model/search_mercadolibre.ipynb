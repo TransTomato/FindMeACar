{
 "cells": [
  {
   "cell_type": "code",
   "execution_count": 5,
   "metadata": {
    "scrolled": true
   },
   "outputs": [],
   "source": [
    "#authors Michelle Quintero Hernandez\n",
    "# import webdriver\n",
    "from selenium import webdriver\n",
    "#from selenium.webdriver.firefox.firefox_binary import FirefoxBinary\n",
    "\n",
    "#Search elements\n",
    "car = \"renault-4\"\n",
    "indexNum = 0\n",
    "index = \"Desde_\"+str(48*indexNum+1)\n",
    "sort = \"OrderId_PRICE\"\n",
    "pRange = [0,10000000]\n",
    "priceRange = \"PriceRange_\"+str(pRange[0])+\"-\"+str(pRange[1])\n",
    "yRange = [\"hasta\",1992]\n",
    "yearRange = str(yRange[0])+\"-\"+str(yRange[1])+\"/\"\n",
    "\n",
    "# create webdriver object\n",
    "driver = webdriver.Firefox()\n",
    "\n",
    "# get carros.mercadolibre.com.co\n",
    "driver.get(\"https://carros.mercadolibre.com.co/\"+yearRange+car+\"_\"+index+\"_\"+sort+\"_\"+priceRange)\n",
    "\n",
    "#get results\n",
    "results = driver.find_elements_by_class_name(\"ui-search-item__title ui-search-item__group__element\")\n",
    "\n",
    "for r in results:\n",
    "    print(r)"
   ]
  },
  {
   "cell_type": "code",
   "execution_count": 5,
   "metadata": {},
   "outputs": [
    {
     "ename": "TypeError",
     "evalue": "can only concatenate str (not \"int\") to str",
     "output_type": "error",
     "traceback": [
      "\u001b[0;31m---------------------------------------------------------------------------\u001b[0m",
      "\u001b[0;31mTypeError\u001b[0m                                 Traceback (most recent call last)",
      "\u001b[0;32m<ipython-input-5-d299ea734014>\u001b[0m in \u001b[0;36m<module>\u001b[0;34m\u001b[0m\n\u001b[1;32m      1\u001b[0m \u001b[0mind\u001b[0m \u001b[0;34m=\u001b[0m \u001b[0;34m\"5\"\u001b[0m\u001b[0;34m\u001b[0m\u001b[0;34m\u001b[0m\u001b[0m\n\u001b[0;32m----> 2\u001b[0;31m \u001b[0mex\u001b[0m \u001b[0;34m=\u001b[0m \u001b[0mstr\u001b[0m\u001b[0;34m(\u001b[0m\u001b[0mind\u001b[0m\u001b[0;34m+\u001b[0m\u001b[0;36m5\u001b[0m\u001b[0;34m)\u001b[0m\u001b[0;34m\u001b[0m\u001b[0;34m\u001b[0m\u001b[0m\n\u001b[0m\u001b[1;32m      3\u001b[0m \u001b[0mprint\u001b[0m\u001b[0;34m(\u001b[0m\u001b[0mex\u001b[0m\u001b[0;34m)\u001b[0m\u001b[0;34m\u001b[0m\u001b[0;34m\u001b[0m\u001b[0m\n",
      "\u001b[0;31mTypeError\u001b[0m: can only concatenate str (not \"int\") to str"
     ]
    }
   ],
   "source": []
  },
  {
   "cell_type": "code",
   "execution_count": null,
   "metadata": {},
   "outputs": [],
   "source": []
  }
 ],
 "metadata": {
  "kernelspec": {
   "display_name": "Python 3",
   "language": "python",
   "name": "python3"
  },
  "language_info": {
   "codemirror_mode": {
    "name": "ipython",
    "version": 3
   },
   "file_extension": ".py",
   "mimetype": "text/x-python",
   "name": "python",
   "nbconvert_exporter": "python",
   "pygments_lexer": "ipython3",
   "version": "3.8.3"
  }
 },
 "nbformat": 4,
 "nbformat_minor": 4
}
